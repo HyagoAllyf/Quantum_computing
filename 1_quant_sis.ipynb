{
 "cells": [
  {
   "cell_type": "code",
   "execution_count": 1,
   "metadata": {},
   "outputs": [
    {
     "ename": "ImportError",
     "evalue": "cannot import name 'Aer' from 'qiskit' (c:\\Users\\hyago\\AppData\\Local\\Programs\\Python\\Python312\\Lib\\site-packages\\qiskit\\__init__.py)",
     "output_type": "error",
     "traceback": [
      "\u001b[1;31m---------------------------------------------------------------------------\u001b[0m",
      "\u001b[1;31mImportError\u001b[0m                               Traceback (most recent call last)",
      "Cell \u001b[1;32mIn[1], line 1\u001b[0m\n\u001b[1;32m----> 1\u001b[0m \u001b[38;5;28;01mfrom\u001b[39;00m \u001b[38;5;21;01mqiskit\u001b[39;00m \u001b[38;5;28;01mimport\u001b[39;00m QuantumCircuit, transpile, Aer, execute\n\u001b[0;32m      3\u001b[0m \u001b[38;5;66;03m# Criar um circuito quântico com 1 qubit e 1 bit clássico\u001b[39;00m\n\u001b[0;32m      4\u001b[0m qc \u001b[38;5;241m=\u001b[39m QuantumCircuit(\u001b[38;5;241m1\u001b[39m, \u001b[38;5;241m1\u001b[39m)\n",
      "\u001b[1;31mImportError\u001b[0m: cannot import name 'Aer' from 'qiskit' (c:\\Users\\hyago\\AppData\\Local\\Programs\\Python\\Python312\\Lib\\site-packages\\qiskit\\__init__.py)"
     ]
    }
   ],
   "source": [
    "from qiskit import QuantumCircuit, transpile, Aer, execute\n",
    "\n",
    "# Criar um circuito quântico com 1 qubit e 1 bit clássico\n",
    "qc = QuantumCircuit(1, 1)\n",
    "\n",
    "# Aplicar a porta Hadamard para criar superposição\n",
    "qc.h(0)\n",
    "\n",
    "# Medir o qubit e armazenar no bit clássico\n",
    "qc.measure(0, 0)\n",
    "\n",
    "# Simular o circuito\n",
    "simulator = Aer.get_backend('qasm_simulator')\n",
    "compiled_circuit = transpile(qc, simulator)\n",
    "job = execute(compiled_circuit, simulator, shots=1024)\n",
    "result = job.result()\n",
    "\n",
    "# Ver o resultado\n",
    "counts = result.get_counts(qc)\n",
    "print(\"Resultado de medidas:\", counts)"
   ]
  }
 ],
 "metadata": {
  "kernelspec": {
   "display_name": "Python 3",
   "language": "python",
   "name": "python3"
  },
  "language_info": {
   "codemirror_mode": {
    "name": "ipython",
    "version": 3
   },
   "file_extension": ".py",
   "mimetype": "text/x-python",
   "name": "python",
   "nbconvert_exporter": "python",
   "pygments_lexer": "ipython3",
   "version": "3.12.2"
  }
 },
 "nbformat": 4,
 "nbformat_minor": 2
}
